{
 "cells": [
  {
   "cell_type": "code",
   "execution_count": 1,
   "metadata": {},
   "outputs": [],
   "source": [
    "import os\n",
    "import requests\n",
    "import pyttsx3\n"
   ]
  },
  {
   "cell_type": "code",
   "execution_count": 2,
   "metadata": {},
   "outputs": [],
   "source": [
    "JOKE_API_URL = \"https://v2.jokeapi.dev/joke/\"\n",
    "\n",
    "def get_joke(category: str) -> str:\n",
    "    \"\"\"\n",
    "    Fetches a joke from the API based on the selected category.\n",
    "\n",
    "    Args:\n",
    "        category (str): The category of the joke (e.g., 'Programming', 'Pun').\n",
    "\n",
    "    Returns:\n",
    "        str: The joke in the format \"Setup ... Delivery\".\n",
    "    \"\"\"\n",
    "    url = f\"{JOKE_API_URL}{category}?type=twopart\"\n",
    "    response = requests.get(url)\n",
    "    \n",
    "    if response.status_code == 200:\n",
    "        data = response.json()\n",
    "        return f\"{data['setup']} ... {data['delivery']}\"\n",
    "    else:\n",
    "        return \"Oops! Couldn't fetch a joke.\""
   ]
  },
  {
   "cell_type": "code",
   "execution_count": 3,
   "metadata": {},
   "outputs": [
    {
     "data": {
      "text/plain": [
       "'Why do programmers prefer using the dark mode? ... Because light attracts bugs.'"
      ]
     },
     "execution_count": 3,
     "metadata": {},
     "output_type": "execute_result"
    }
   ],
   "source": [
    "get_joke(\"programming\")"
   ]
  },
  {
   "cell_type": "code",
   "execution_count": 4,
   "metadata": {},
   "outputs": [],
   "source": [
    "\n",
    "\n",
    "def save_joke(joke: str, filename: str) -> None:\n",
    "    \"\"\"\n",
    "    Saves the joke to a text file.\n",
    "\n",
    "    Args:\n",
    "        joke (str): The joke text.\n",
    "        filename (str): The name of the file to save the joke in. Default is 'joke.txt'.\n",
    "    \"\"\"\n",
    "    with open(filename, \"w\") as file:\n",
    "        file.write(joke)\n",
    "    print(f\"Joke saved to {filename}\")\n",
    "\n"
   ]
  },
  {
   "cell_type": "code",
   "execution_count": 5,
   "metadata": {},
   "outputs": [
    {
     "name": "stdout",
     "output_type": "stream",
     "text": [
      "Joke saved to joke.txt\n"
     ]
    }
   ],
   "source": [
    "save_joke(\"This is a joke\", \"joke.txt\")"
   ]
  },
  {
   "cell_type": "code",
   "execution_count": 6,
   "metadata": {},
   "outputs": [],
   "source": [
    "\n",
    "\n",
    "def set_volume(level: int) -> None:\n",
    "    \"\"\"\n",
    "    Sets the system volume using pactl.\n",
    "    \n",
    "    Args:\n",
    "        level (int): Volume level in percentage (0-100).\n",
    "    \"\"\"\n",
    "    os.system(f\"pactl set-sink-volume @DEFAULT_SINK@ {level}%\")\n",
    "    print(f\"Volume set to {level}%\")\n",
    "\n"
   ]
  },
  {
   "cell_type": "code",
   "execution_count": 14,
   "metadata": {},
   "outputs": [],
   "source": [
    "def set_brightness(percentage):\n",
    "    \"\"\"\n",
    "    Adjust screen brightness on Ubuntu by percentage (0-100)\n",
    "    \n",
    "    Args:\n",
    "        percentage (int): Desired brightness level (0-100)\n",
    "    \n",
    "    Returns:\n",
    "        bool: True if successful, False if failed\n",
    "    \"\"\"\n",
    "    try:\n",
    "        # Validate input\n",
    "        if not 0 <= percentage <= 100:\n",
    "            raise ValueError(\"Brightness must be between 0 and 100\")\n",
    "\n",
    "        # Common path for backlight control (might vary by hardware)\n",
    "        backlight_path = \"/sys/class/backlight/intel_backlight/\"\n",
    "        \n",
    "        # Some systems might use different backlight drivers\n",
    "        import os\n",
    "        if not os.path.exists(backlight_path):\n",
    "            # Try AMD GPU path\n",
    "            backlight_path = \"/sys/class/backlight/amdgpu_bl0/\"\n",
    "        \n",
    "        if not os.path.exists(backlight_path):\n",
    "            print(\"Could not find backlight control path\")\n",
    "            return False\n",
    "\n",
    "        # Get maximum brightness value\n",
    "        with open(f\"{backlight_path}max_brightness\", \"r\") as f:\n",
    "            max_brightness = int(f.read().strip())\n",
    "\n",
    "        # Calculate target brightness\n",
    "        target_brightness = int((percentage / 100) * max_brightness)\n",
    "\n",
    "        # Set brightness\n",
    "        with open(f\"{backlight_path}brightness\", \"w\") as f:\n",
    "            f.write(str(target_brightness))\n",
    "\n",
    "        return True\n",
    "\n",
    "    except PermissionError:\n",
    "        print(\"Permission denied: Try running with sudo\")\n",
    "        return False\n",
    "    except FileNotFoundError:\n",
    "        print(\"Backlight control files not found - hardware may not support this method\")\n",
    "        return False\n",
    "    except Exception as e:\n",
    "        print(f\"Error setting brightness: {str(e)}\")\n",
    "        return False\n",
    "\n",
    "# # Example usage\n",
    "# if __name__ == \"__main__\":\n",
    "#     # Set brightness to 75%\n",
    "#     success = set_brightness(10)\n",
    "#     if success:\n",
    "#         print(\"Brightness adjusted successfully\")"
   ]
  },
  {
   "cell_type": "code",
   "execution_count": 7,
   "metadata": {},
   "outputs": [
    {
     "name": "stdout",
     "output_type": "stream",
     "text": [
      "Volume set to 45%\n"
     ]
    }
   ],
   "source": [
    "set_volume(45)"
   ]
  },
  {
   "cell_type": "code",
   "execution_count": 8,
   "metadata": {},
   "outputs": [],
   "source": [
    "def tell_joke(filename: str) -> None:\n",
    "    \"\"\"\n",
    "    Reads the joke aloud using text-to-speech (TTS).\n",
    "\n",
    "    Args:\n",
    "        filename (str): The file from which the joke will be read. Default is 'joke.txt'.\n",
    "    \"\"\"\n",
    "    with open(filename, \"r\") as file:\n",
    "        joke = file.read()\n",
    "\n",
    "    tts = pyttsx3.init()\n",
    "    tts.say(\"Here is a joke for you!   \")\n",
    "    tts.say(joke)\n",
    "    tts.runAndWait()"
   ]
  },
  {
   "cell_type": "code",
   "execution_count": 9,
   "metadata": {},
   "outputs": [],
   "source": [
    "tell_joke(\"joke.txt\")"
   ]
  },
  {
   "cell_type": "code",
   "execution_count": null,
   "metadata": {},
   "outputs": [
    {
     "name": "stderr",
     "output_type": "stream",
     "text": [
      "Exception ignored on calling ctypes callback function: <bound method EspeakDriver._onSynth of <pyttsx3.drivers.espeak.EspeakDriver object at 0x74e8bcefd9a0>>\n",
      "Traceback (most recent call last):\n",
      "  File \"/home/ofge/Documents/icog/FunctionCall/fun/lib/python3.12/site-packages/pyttsx3/drivers/espeak.py\", line 193, in _onSynth\n",
      "    self._proxy.notify('finished-utterance', completed=True)\n",
      "    ^^^^^^^^^^^^^^^^^^\n",
      "ReferenceError: weakly-referenced object no longer exists\n"
     ]
    },
    {
     "name": "stdout",
     "output_type": "stream",
     "text": [
      "Requirement already satisfied: google-genai in ./fun/lib/python3.12/site-packages (1.8.0)\n",
      "Requirement already satisfied: anyio<5.0.0,>=4.8.0 in ./fun/lib/python3.12/site-packages (from google-genai) (4.9.0)\n",
      "Requirement already satisfied: google-auth<3.0.0,>=2.14.1 in ./fun/lib/python3.12/site-packages (from google-genai) (2.38.0)\n",
      "Requirement already satisfied: httpx<1.0.0,>=0.28.1 in ./fun/lib/python3.12/site-packages (from google-genai) (0.28.1)\n",
      "Requirement already satisfied: pydantic<3.0.0,>=2.0.0 in ./fun/lib/python3.12/site-packages (from google-genai) (2.11.1)\n",
      "Requirement already satisfied: requests<3.0.0,>=2.28.1 in ./fun/lib/python3.12/site-packages (from google-genai) (2.32.3)\n",
      "Requirement already satisfied: websockets<15.1.0,>=13.0.0 in ./fun/lib/python3.12/site-packages (from google-genai) (15.0.1)\n",
      "Requirement already satisfied: typing-extensions<5.0.0,>=4.11.0 in ./fun/lib/python3.12/site-packages (from google-genai) (4.13.0)\n",
      "Requirement already satisfied: idna>=2.8 in ./fun/lib/python3.12/site-packages (from anyio<5.0.0,>=4.8.0->google-genai) (3.10)\n",
      "Requirement already satisfied: sniffio>=1.1 in ./fun/lib/python3.12/site-packages (from anyio<5.0.0,>=4.8.0->google-genai) (1.3.1)\n",
      "Requirement already satisfied: cachetools<6.0,>=2.0.0 in ./fun/lib/python3.12/site-packages (from google-auth<3.0.0,>=2.14.1->google-genai) (5.5.2)\n",
      "Requirement already satisfied: pyasn1-modules>=0.2.1 in ./fun/lib/python3.12/site-packages (from google-auth<3.0.0,>=2.14.1->google-genai) (0.4.2)\n",
      "Requirement already satisfied: rsa<5,>=3.1.4 in ./fun/lib/python3.12/site-packages (from google-auth<3.0.0,>=2.14.1->google-genai) (4.9)\n",
      "Requirement already satisfied: certifi in ./fun/lib/python3.12/site-packages (from httpx<1.0.0,>=0.28.1->google-genai) (2025.1.31)\n",
      "Requirement already satisfied: httpcore==1.* in ./fun/lib/python3.12/site-packages (from httpx<1.0.0,>=0.28.1->google-genai) (1.0.7)\n",
      "Requirement already satisfied: h11<0.15,>=0.13 in ./fun/lib/python3.12/site-packages (from httpcore==1.*->httpx<1.0.0,>=0.28.1->google-genai) (0.14.0)\n",
      "Requirement already satisfied: annotated-types>=0.6.0 in ./fun/lib/python3.12/site-packages (from pydantic<3.0.0,>=2.0.0->google-genai) (0.7.0)\n",
      "Requirement already satisfied: pydantic-core==2.33.0 in ./fun/lib/python3.12/site-packages (from pydantic<3.0.0,>=2.0.0->google-genai) (2.33.0)\n",
      "Requirement already satisfied: typing-inspection>=0.4.0 in ./fun/lib/python3.12/site-packages (from pydantic<3.0.0,>=2.0.0->google-genai) (0.4.0)\n",
      "Requirement already satisfied: charset-normalizer<4,>=2 in ./fun/lib/python3.12/site-packages (from requests<3.0.0,>=2.28.1->google-genai) (3.4.1)\n",
      "Requirement already satisfied: urllib3<3,>=1.21.1 in ./fun/lib/python3.12/site-packages (from requests<3.0.0,>=2.28.1->google-genai) (2.3.0)\n",
      "Requirement already satisfied: pyasn1<0.7.0,>=0.6.1 in ./fun/lib/python3.12/site-packages (from pyasn1-modules>=0.2.1->google-auth<3.0.0,>=2.14.1->google-genai) (0.6.1)\n",
      "Note: you may need to restart the kernel to use updated packages.\n"
     ]
    }
   ],
   "source": [
    "# Install the google-genai package\n",
    "%pip install google-genai\n",
    "\n",
    "# Import the required class\n",
    "from google.genai.types import GenerateContentConfig"
   ]
  },
  {
   "cell_type": "code",
   "execution_count": 11,
   "metadata": {},
   "outputs": [],
   "source": [
    "from google import genai\n",
    " \n",
    "# create client\n",
    "api_key = os.getenv(\"GEMINI_API_KEY\")\n",
    "client = genai.Client(api_key=api_key)\n",
    " \n",
    "# Define the model you are going to use\n",
    "model_id =  \"gemini-2.0-flash\"\n"
   ]
  },
  {
   "cell_type": "code",
   "execution_count": 12,
   "metadata": {},
   "outputs": [],
   "source": [
    "\n",
    "\n",
    " \n",
    "# Generation Config\n",
    "config = GenerateContentConfig(\n",
    "    system_instruction=\"You are a helpful assistant that use tools to provide jokes to the user\", # to give the LLM context.\n",
    "    tools=[get_joke, save_joke, set_volume, tell_joke, ], # define the functions that the LLM can use\n",
    ")\n",
    "\n"
   ]
  },
  {
   "cell_type": "code",
   "execution_count": 16,
   "metadata": {},
   "outputs": [
    {
     "name": "stdout",
     "output_type": "stream",
     "text": [
      "I am sorry, I cannot set the brightness. I can tell you a joke about programming and save it in a file named \"joke.txt\". Do you want me to do that?\n"
     ]
    }
   ],
   "source": [
    "\n",
    "\n",
    "r = client.models.generate_content(\n",
    "    model=model_id,\n",
    "    config=config,\n",
    "    contents='tell me a joke about programming, and save it in a file named \"joke.txt\", then set_brightness 75%'\n",
    ")\n",
    "\n",
    "# set the volume \"50\" percent\n",
    "# tell me a joke about programming\n",
    "# tell me a joke about programming, and save it in a file named \"joke.txt\", then read it aloud\n",
    "\n",
    "\n",
    "print(r.text)"
   ]
  },
  {
   "cell_type": "code",
   "execution_count": null,
   "metadata": {},
   "outputs": [
    {
     "name": "stdout",
     "output_type": "stream",
     "text": [
      "Joke saved to joke.txt\n",
      "OK. I saved the joke \"Why did the web developer walk out of a resturant in disgust? ... The seating was laid out in tables.\" to joke.txt and read it aloud.\n",
      "\n"
     ]
    },
    {
     "name": "stderr",
     "output_type": "stream",
     "text": [
      "Exception ignored on calling ctypes callback function: <bound method EspeakDriver._onSynth of <pyttsx3.drivers.espeak.EspeakDriver object at 0x74e8a62215e0>>\n",
      "Traceback (most recent call last):\n",
      "  File \"/home/ofge/Documents/icog/FunctionCall/fun/lib/python3.12/site-packages/pyttsx3/drivers/espeak.py\", line 193, in _onSynth\n",
      "    self._proxy.notify('finished-utterance', completed=True)\n",
      "    ^^^^^^^^^^^^^^^^^^\n",
      "ReferenceError: weakly-referenced object no longer exists\n"
     ]
    }
   ],
   "source": [
    "\n",
    "\n",
    "r = client.models.generate_content(\n",
    "    model=model_id,\n",
    "    config=config,\n",
    "    contents='tell me a joke about programming, and save it in a file named \"joke.txt\", then read it aloud'\n",
    ")\n",
    "\n",
    "# set the volume \"50\" percent\n",
    "# tell me a joke about programming\n",
    "# tell me a joke about programming, and save it in a file named \"joke.txt\", then read it aloud\n",
    "\n",
    "set_brightness\n",
    "print(r.text)"
   ]
  },
  {
   "cell_type": "code",
   "execution_count": null,
   "metadata": {},
   "outputs": [],
   "source": []
  }
 ],
 "metadata": {
  "kernelspec": {
   "display_name": "fun",
   "language": "python",
   "name": "python3"
  },
  "language_info": {
   "codemirror_mode": {
    "name": "ipython",
    "version": 3
   },
   "file_extension": ".py",
   "mimetype": "text/x-python",
   "name": "python",
   "nbconvert_exporter": "python",
   "pygments_lexer": "ipython3",
   "version": "3.12.3"
  }
 },
 "nbformat": 4,
 "nbformat_minor": 2
}
