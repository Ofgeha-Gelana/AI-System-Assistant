{
 "cells": [
  {
   "cell_type": "code",
   "execution_count": 1,
   "metadata": {},
   "outputs": [],
   "source": [
    "import os\n",
    "import requests\n",
    "import pyttsx3\n"
   ]
  },
  {
   "cell_type": "code",
   "execution_count": 2,
   "metadata": {},
   "outputs": [],
   "source": [
    "JOKE_API_URL = \"https://v2.jokeapi.dev/joke/\"\n",
    "\n",
    "def get_joke(category: str) -> str:\n",
    "    \"\"\"\n",
    "    Fetches a joke from the API based on the selected category.\n",
    "\n",
    "    Args:\n",
    "        category (str): The category of the joke (e.g., 'Programming', 'Pun').\n",
    "\n",
    "    Returns:\n",
    "        str: The joke in the format \"Setup ... Delivery\".\n",
    "    \"\"\"\n",
    "    url = f\"{JOKE_API_URL}{category}?type=twopart\"\n",
    "    response = requests.get(url)\n",
    "    \n",
    "    if response.status_code == 200:\n",
    "        data = response.json()\n",
    "        return f\"{data['setup']} ... {data['delivery']}\"\n",
    "    else:\n",
    "        return \"Oops! Couldn't fetch a joke.\""
   ]
  },
  {
   "cell_type": "code",
   "execution_count": 3,
   "metadata": {},
   "outputs": [
    {
     "data": {
      "text/plain": [
       "'Why do programmers prefer using the dark mode? ... Because light attracts bugs.'"
      ]
     },
     "execution_count": 3,
     "metadata": {},
     "output_type": "execute_result"
    }
   ],
   "source": [
    "get_joke(\"programming\")"
   ]
  },
  {
   "cell_type": "code",
   "execution_count": 4,
   "metadata": {},
   "outputs": [],
   "source": [
    "\n",
    "\n",
    "def save_joke(joke: str, filename: str) -> None:\n",
    "    \"\"\"\n",
    "    Saves the joke to a text file.\n",
    "\n",
    "    Args:\n",
    "        joke (str): The joke text.\n",
    "        filename (str): The name of the file to save the joke in. Default is 'joke.txt'.\n",
    "    \"\"\"\n",
    "    with open(filename, \"w\") as file:\n",
    "        file.write(joke)\n",
    "    print(f\"Joke saved to {filename}\")\n",
    "\n"
   ]
  },
  {
   "cell_type": "code",
   "execution_count": 5,
   "metadata": {},
   "outputs": [
    {
     "name": "stdout",
     "output_type": "stream",
     "text": [
      "Joke saved to joke.txt\n"
     ]
    }
   ],
   "source": [
    "save_joke(\"This is a joke\", \"joke.txt\")"
   ]
  },
  {
   "cell_type": "code",
   "execution_count": 6,
   "metadata": {},
   "outputs": [],
   "source": [
    "\n",
    "\n",
    "def set_volume(level: int) -> None:\n",
    "    \"\"\"\n",
    "    Sets the system volume using pactl.\n",
    "    \n",
    "    Args:\n",
    "        level (int): Volume level in percentage (0-100).\n",
    "    \"\"\"\n",
    "    os.system(f\"pactl set-sink-volume @DEFAULT_SINK@ {level}%\")\n",
    "    print(f\"Volume set to {level}%\")\n",
    "\n"
   ]
  },
  {
   "cell_type": "code",
   "execution_count": 14,
   "metadata": {},
   "outputs": [],
   "source": [
    "def set_brightness(percentage):\n",
    "    \"\"\"\n",
    "    Adjust screen brightness on Ubuntu by percentage (0-100)\n",
    "    \n",
    "    Args:\n",
    "        percentage (int): Desired brightness level (0-100)\n",
    "    \n",
    "    Returns:\n",
    "        bool: True if successful, False if failed\n",
    "    \"\"\"\n",
    "    try:\n",
    "        # Validate input\n",
    "        if not 0 <= percentage <= 100:\n",
    "            raise ValueError(\"Brightness must be between 0 and 100\")\n",
    "\n",
    "        # Common path for backlight control (might vary by hardware)\n",
    "        backlight_path = \"/sys/class/backlight/intel_backlight/\"\n",
    "        \n",
    "        # Some systems might use different backlight drivers\n",
    "        import os\n",
    "        if not os.path.exists(backlight_path):\n",
    "            # Try AMD GPU path\n",
    "            backlight_path = \"/sys/class/backlight/amdgpu_bl0/\"\n",
    "        \n",
    "        if not os.path.exists(backlight_path):\n",
    "            print(\"Could not find backlight control path\")\n",
    "            return False\n",
    "\n",
    "        # Get maximum brightness value\n",
    "        with open(f\"{backlight_path}max_brightness\", \"r\") as f:\n",
    "            max_brightness = int(f.read().strip())\n",
    "\n",
    "        # Calculate target brightness\n",
    "        target_brightness = int((percentage / 100) * max_brightness)\n",
    "\n",
    "        # Set brightness\n",
    "        with open(f\"{backlight_path}brightness\", \"w\") as f:\n",
    "            f.write(str(target_brightness))\n",
    "\n",
    "        return True\n",
    "\n",
    "    except PermissionError:\n",
    "        print(\"Permission denied: Try running with sudo\")\n",
    "        return False\n",
    "    except FileNotFoundError:\n",
    "        print(\"Backlight control files not found - hardware may not support this method\")\n",
    "        return False\n",
    "    except Exception as e:\n",
    "        print(f\"Error setting brightness: {str(e)}\")\n",
    "        return False\n",
    "\n",
    "# # Example usage\n",
    "# if __name__ == \"__main__\":\n",
    "#     # Set brightness to 75%\n",
    "#     success = set_brightness(10)\n",
    "#     if success:\n",
    "#         print(\"Brightness adjusted successfully\")"
   ]
  },
  {
   "cell_type": "code",
   "execution_count": 7,
   "metadata": {},
   "outputs": [
    {
     "name": "stdout",
     "output_type": "stream",
     "text": [
      "Volume set to 45%\n"
     ]
    }
   ],
   "source": [
    "set_volume(45)"
   ]
  },
  {
   "cell_type": "code",
   "execution_count": 8,
   "metadata": {},
   "outputs": [],
   "source": [
    "def tell_joke(filename: str) -> None:\n",
    "    \"\"\"\n",
    "    Reads the joke aloud using text-to-speech (TTS).\n",
    "\n",
    "    Args:\n",
    "        filename (str): The file from which the joke will be read. Default is 'joke.txt'.\n",
    "    \"\"\"\n",
    "    with open(filename, \"r\") as file:\n",
    "        joke = file.read()\n",
    "\n",
    "    tts = pyttsx3.init()\n",
    "    tts.say(\"Here is a joke for you!   \")\n",
    "    tts.say(joke)\n",
    "    tts.runAndWait()"
   ]
  },
  {
   "cell_type": "code",
   "execution_count": 9,
   "metadata": {},
   "outputs": [],
   "source": [
    "tell_joke(\"joke.txt\")"
   ]
  },
  {
   "cell_type": "code",
   "execution_count": null,
   "metadata": {},
   "outputs": [
    {
     "name": "stderr",
     "output_type": "stream",
     "text": [
      "Exception ignored on calling ctypes callback function: <bound method EspeakDriver._onSynth of <pyttsx3.drivers.espeak.EspeakDriver object at 0x74e8bcefd9a0>>\n",
      "Traceback (most recent call last):\n",
      "  File \"/home/ofge/Documents/icog/FunctionCall/fun/lib/python3.12/site-packages/pyttsx3/drivers/espeak.py\", line 193, in _onSynth\n",
      "    self._proxy.notify('finished-utterance', completed=True)\n",
      "    ^^^^^^^^^^^^^^^^^^\n",
      "ReferenceError: weakly-referenced object no longer exists\n"
     ]
    },
    {
     "name": "stdout",
     "output_type": "stream",
     "text": [
      "Requirement already satisfied: google-genai in ./fun/lib/python3.12/site-packages (1.8.0)\n",
      "Requirement already satisfied: anyio<5.0.0,>=4.8.0 in ./fun/lib/python3.12/site-packages (from google-genai) (4.9.0)\n",
      "Requirement already satisfied: google-auth<3.0.0,>=2.14.1 in ./fun/lib/python3.12/site-packages (from google-genai) (2.38.0)\n",
      "Requirement already satisfied: httpx<1.0.0,>=0.28.1 in ./fun/lib/python3.12/site-packages (from google-genai) (0.28.1)\n",
      "Requirement already satisfied: pydantic<3.0.0,>=2.0.0 in ./fun/lib/python3.12/site-packages (from google-genai) (2.11.1)\n",
      "Requirement already satisfied: requests<3.0.0,>=2.28.1 in ./fun/lib/python3.12/site-packages (from google-genai) (2.32.3)\n",
      "Requirement already satisfied: websockets<15.1.0,>=13.0.0 in ./fun/lib/python3.12/site-packages (from google-genai) (15.0.1)\n",
      "Requirement already satisfied: typing-extensions<5.0.0,>=4.11.0 in ./fun/lib/python3.12/site-packages (from google-genai) (4.13.0)\n",
      "Requirement already satisfied: idna>=2.8 in ./fun/lib/python3.12/site-packages (from anyio<5.0.0,>=4.8.0->google-genai) (3.10)\n",
      "Requirement already satisfied: sniffio>=1.1 in ./fun/lib/python3.12/site-packages (from anyio<5.0.0,>=4.8.0->google-genai) (1.3.1)\n",
      "Requirement already satisfied: cachetools<6.0,>=2.0.0 in ./fun/lib/python3.12/site-packages (from google-auth<3.0.0,>=2.14.1->google-genai) (5.5.2)\n",
      "Requirement already satisfied: pyasn1-modules>=0.2.1 in ./fun/lib/python3.12/site-packages (from google-auth<3.0.0,>=2.14.1->google-genai) (0.4.2)\n",
      "Requirement already satisfied: rsa<5,>=3.1.4 in ./fun/lib/python3.12/site-packages (from google-auth<3.0.0,>=2.14.1->google-genai) (4.9)\n",
      "Requirement already satisfied: certifi in ./fun/lib/python3.12/site-packages (from httpx<1.0.0,>=0.28.1->google-genai) (2025.1.31)\n",
      "Requirement already satisfied: httpcore==1.* in ./fun/lib/python3.12/site-packages (from httpx<1.0.0,>=0.28.1->google-genai) (1.0.7)\n",
      "Requirement already satisfied: h11<0.15,>=0.13 in ./fun/lib/python3.12/site-packages (from httpcore==1.*->httpx<1.0.0,>=0.28.1->google-genai) (0.14.0)\n",
      "Requirement already satisfied: annotated-types>=0.6.0 in ./fun/lib/python3.12/site-packages (from pydantic<3.0.0,>=2.0.0->google-genai) (0.7.0)\n",
      "Requirement already satisfied: pydantic-core==2.33.0 in ./fun/lib/python3.12/site-packages (from pydantic<3.0.0,>=2.0.0->google-genai) (2.33.0)\n",
      "Requirement already satisfied: typing-inspection>=0.4.0 in ./fun/lib/python3.12/site-packages (from pydantic<3.0.0,>=2.0.0->google-genai) (0.4.0)\n",
      "Requirement already satisfied: charset-normalizer<4,>=2 in ./fun/lib/python3.12/site-packages (from requests<3.0.0,>=2.28.1->google-genai) (3.4.1)\n",
      "Requirement already satisfied: urllib3<3,>=1.21.1 in ./fun/lib/python3.12/site-packages (from requests<3.0.0,>=2.28.1->google-genai) (2.3.0)\n",
      "Requirement already satisfied: pyasn1<0.7.0,>=0.6.1 in ./fun/lib/python3.12/site-packages (from pyasn1-modules>=0.2.1->google-auth<3.0.0,>=2.14.1->google-genai) (0.6.1)\n",
      "Note: you may need to restart the kernel to use updated packages.\n"
     ]
    }
   ],
   "source": [
    "# Install the google-genai package\n",
    "%pip install google-genai\n",
    "\n",
    "# Import the required class\n",
    "from google.genai.types import GenerateContentConfig"
   ]
  },
  {
   "cell_type": "code",
   "execution_count": 11,
   "metadata": {},
   "outputs": [],
   "source": [
    "from google import genai\n",
    " \n",
    "# create client\n",
    "api_key = os.getenv(\"GEMINI_API_KEY\")\n",
    "client = genai.Client(api_key=api_key)\n",
    " \n",
    "# Define the model you are going to use\n",
    "model_id =  \"gemini-2.0-flash\"\n"
   ]
  },
  {
   "cell_type": "code",
   "execution_count": 12,
   "metadata": {},
   "outputs": [],
   "source": [
    "\n",
    "\n",
    " \n",
    "# Generation Config\n",
    "config = GenerateContentConfig(\n",
    "    system_instruction=\"You are a helpful assistant that use tools to provide jokes to the user\", # to give the LLM context.\n",
    "    tools=[get_joke, save_joke, set_volume, tell_joke, ], # define the functions that the LLM can use\n",
    ")\n",
    "\n"
   ]
  },
  {
   "cell_type": "code",
   "execution_count": 16,
   "metadata": {},
   "outputs": [
    {
     "name": "stdout",
     "output_type": "stream",
     "text": [
      "I am sorry, I cannot set the brightness. I can tell you a joke about programming and save it in a file named \"joke.txt\". Do you want me to do that?\n"
     ]
    }
   ],
   "source": [
    "\n",
    "\n",
    "r = client.models.generate_content(\n",
    "    model=model_id,\n",
    "    config=config,\n",
    "    contents='tell me a joke about programming, and save it in a file named \"joke.txt\", then set_brightness 75%'\n",
    ")\n",
    "\n",
    "# set the volume \"50\" percent\n",
    "# tell me a joke about programming\n",
    "# tell me a joke about programming, and save it in a file named \"joke.txt\", then read it aloud\n",
    "\n",
    "\n",
    "print(r.text)"
   ]
  },
  {
   "cell_type": "code",
   "execution_count": null,
   "metadata": {},
   "outputs": [
    {
     "name": "stdout",
     "output_type": "stream",
     "text": [
      "Joke saved to joke.txt\n",
      "OK. I saved the joke \"Why did the web developer walk out of a resturant in disgust? ... The seating was laid out in tables.\" to joke.txt and read it aloud.\n",
      "\n"
     ]
    },
    {
     "name": "stderr",
     "output_type": "stream",
     "text": [
      "Exception ignored on calling ctypes callback function: <bound method EspeakDriver._onSynth of <pyttsx3.drivers.espeak.EspeakDriver object at 0x74e8a62215e0>>\n",
      "Traceback (most recent call last):\n",
      "  File \"/home/ofge/Documents/icog/FunctionCall/fun/lib/python3.12/site-packages/pyttsx3/drivers/espeak.py\", line 193, in _onSynth\n",
      "    self._proxy.notify('finished-utterance', completed=True)\n",
      "    ^^^^^^^^^^^^^^^^^^\n",
      "ReferenceError: weakly-referenced object no longer exists\n"
     ]
    }
   ],
   "source": [
    "\n",
    "\n",
    "r = client.models.generate_content(\n",
    "    model=model_id,\n",
    "    config=config,\n",
    "    contents='tell me a joke about programming, and save it in a file named \"joke.txt\", then read it aloud'\n",
    ")\n",
    "\n",
    "# set the volume \"50\" percent\n",
    "# tell me a joke about programming\n",
    "# tell me a joke about programming, and save it in a file named \"joke.txt\", then read it aloud\n",
    "\n",
    "set_brightness\n",
    "print(r.text)"
   ]
  },
  {
   "cell_type": "code",
   "execution_count": 1,
   "metadata": {},
   "outputs": [
    {
     "ename": "ValueError",
     "evalue": "Missing key inputs argument! To use the Google AI API,provide (`api_key`) arguments. To use the Google Cloud API, provide (`vertexai`, `project` & `location`) arguments.",
     "output_type": "error",
     "traceback": [
      "\u001b[31m---------------------------------------------------------------------------\u001b[39m",
      "\u001b[31mValueError\u001b[39m                                Traceback (most recent call last)",
      "\u001b[36mCell\u001b[39m\u001b[36m \u001b[39m\u001b[32mIn[1]\u001b[39m\u001b[32m, line 156\u001b[39m\n\u001b[32m    152\u001b[39m         \u001b[38;5;28mprint\u001b[39m(\u001b[33mf\u001b[39m\u001b[33m\"\u001b[39m\u001b[33mError reading joke: \u001b[39m\u001b[38;5;132;01m{\u001b[39;00m\u001b[38;5;28mstr\u001b[39m(e)\u001b[38;5;132;01m}\u001b[39;00m\u001b[33m\"\u001b[39m)\n\u001b[32m    154\u001b[39m \u001b[38;5;66;03m# --- Integrating Gemini AI ---\u001b[39;00m\n\u001b[32m    155\u001b[39m \u001b[38;5;66;03m# Create Gemini Client\u001b[39;00m\n\u001b[32m--> \u001b[39m\u001b[32m156\u001b[39m client = \u001b[43mgenai\u001b[49m\u001b[43m.\u001b[49m\u001b[43mClient\u001b[49m\u001b[43m(\u001b[49m\u001b[43mapi_key\u001b[49m\u001b[43m=\u001b[49m\u001b[43mGOOGLE_API_KEY\u001b[49m\u001b[43m)\u001b[49m\n\u001b[32m    158\u001b[39m \u001b[38;5;66;03m# Define the Model\u001b[39;00m\n\u001b[32m    159\u001b[39m model_id = \u001b[33m\"\u001b[39m\u001b[33mgemini-2.0-flash\u001b[39m\u001b[33m\"\u001b[39m\n",
      "\u001b[36mFile \u001b[39m\u001b[32m~/Documents/icog/FunctionCall/fun/lib/python3.12/site-packages/google/genai/client.py:200\u001b[39m, in \u001b[36mClient.__init__\u001b[39m\u001b[34m(self, vertexai, api_key, credentials, project, location, debug_config, http_options)\u001b[39m\n\u001b[32m    197\u001b[39m \u001b[38;5;28;01mif\u001b[39;00m \u001b[38;5;28misinstance\u001b[39m(http_options, \u001b[38;5;28mdict\u001b[39m):\n\u001b[32m    198\u001b[39m   http_options = HttpOptions(**http_options)\n\u001b[32m--> \u001b[39m\u001b[32m200\u001b[39m \u001b[38;5;28mself\u001b[39m._api_client = \u001b[38;5;28;43mself\u001b[39;49m\u001b[43m.\u001b[49m\u001b[43m_get_api_client\u001b[49m\u001b[43m(\u001b[49m\n\u001b[32m    201\u001b[39m \u001b[43m    \u001b[49m\u001b[43mvertexai\u001b[49m\u001b[43m=\u001b[49m\u001b[43mvertexai\u001b[49m\u001b[43m,\u001b[49m\n\u001b[32m    202\u001b[39m \u001b[43m    \u001b[49m\u001b[43mapi_key\u001b[49m\u001b[43m=\u001b[49m\u001b[43mapi_key\u001b[49m\u001b[43m,\u001b[49m\n\u001b[32m    203\u001b[39m \u001b[43m    \u001b[49m\u001b[43mcredentials\u001b[49m\u001b[43m=\u001b[49m\u001b[43mcredentials\u001b[49m\u001b[43m,\u001b[49m\n\u001b[32m    204\u001b[39m \u001b[43m    \u001b[49m\u001b[43mproject\u001b[49m\u001b[43m=\u001b[49m\u001b[43mproject\u001b[49m\u001b[43m,\u001b[49m\n\u001b[32m    205\u001b[39m \u001b[43m    \u001b[49m\u001b[43mlocation\u001b[49m\u001b[43m=\u001b[49m\u001b[43mlocation\u001b[49m\u001b[43m,\u001b[49m\n\u001b[32m    206\u001b[39m \u001b[43m    \u001b[49m\u001b[43mdebug_config\u001b[49m\u001b[43m=\u001b[49m\u001b[38;5;28;43mself\u001b[39;49m\u001b[43m.\u001b[49m\u001b[43m_debug_config\u001b[49m\u001b[43m,\u001b[49m\n\u001b[32m    207\u001b[39m \u001b[43m    \u001b[49m\u001b[43mhttp_options\u001b[49m\u001b[43m=\u001b[49m\u001b[43mhttp_options\u001b[49m\u001b[43m,\u001b[49m\n\u001b[32m    208\u001b[39m \u001b[43m\u001b[49m\u001b[43m)\u001b[49m\n\u001b[32m    210\u001b[39m \u001b[38;5;28mself\u001b[39m._aio = AsyncClient(\u001b[38;5;28mself\u001b[39m._api_client)\n\u001b[32m    211\u001b[39m \u001b[38;5;28mself\u001b[39m._models = Models(\u001b[38;5;28mself\u001b[39m._api_client)\n",
      "\u001b[36mFile \u001b[39m\u001b[32m~/Documents/icog/FunctionCall/fun/lib/python3.12/site-packages/google/genai/client.py:245\u001b[39m, in \u001b[36mClient._get_api_client\u001b[39m\u001b[34m(vertexai, api_key, credentials, project, location, debug_config, http_options)\u001b[39m\n\u001b[32m    228\u001b[39m \u001b[38;5;28;01mif\u001b[39;00m debug_config \u001b[38;5;129;01mand\u001b[39;00m debug_config.client_mode \u001b[38;5;129;01min\u001b[39;00m [\n\u001b[32m    229\u001b[39m     \u001b[33m'\u001b[39m\u001b[33mrecord\u001b[39m\u001b[33m'\u001b[39m,\n\u001b[32m    230\u001b[39m     \u001b[33m'\u001b[39m\u001b[33mreplay\u001b[39m\u001b[33m'\u001b[39m,\n\u001b[32m    231\u001b[39m     \u001b[33m'\u001b[39m\u001b[33mauto\u001b[39m\u001b[33m'\u001b[39m,\n\u001b[32m    232\u001b[39m ]:\n\u001b[32m    233\u001b[39m   \u001b[38;5;28;01mreturn\u001b[39;00m ReplayApiClient(\n\u001b[32m    234\u001b[39m       mode=debug_config.client_mode,  \u001b[38;5;66;03m# type: ignore[arg-type]\u001b[39;00m\n\u001b[32m    235\u001b[39m       replay_id=debug_config.replay_id,  \u001b[38;5;66;03m# type: ignore[arg-type]\u001b[39;00m\n\u001b[32m   (...)\u001b[39m\u001b[32m    242\u001b[39m       http_options=http_options,\n\u001b[32m    243\u001b[39m   )\n\u001b[32m--> \u001b[39m\u001b[32m245\u001b[39m \u001b[38;5;28;01mreturn\u001b[39;00m \u001b[43mBaseApiClient\u001b[49m\u001b[43m(\u001b[49m\n\u001b[32m    246\u001b[39m \u001b[43m    \u001b[49m\u001b[43mvertexai\u001b[49m\u001b[43m=\u001b[49m\u001b[43mvertexai\u001b[49m\u001b[43m,\u001b[49m\n\u001b[32m    247\u001b[39m \u001b[43m    \u001b[49m\u001b[43mapi_key\u001b[49m\u001b[43m=\u001b[49m\u001b[43mapi_key\u001b[49m\u001b[43m,\u001b[49m\n\u001b[32m    248\u001b[39m \u001b[43m    \u001b[49m\u001b[43mcredentials\u001b[49m\u001b[43m=\u001b[49m\u001b[43mcredentials\u001b[49m\u001b[43m,\u001b[49m\n\u001b[32m    249\u001b[39m \u001b[43m    \u001b[49m\u001b[43mproject\u001b[49m\u001b[43m=\u001b[49m\u001b[43mproject\u001b[49m\u001b[43m,\u001b[49m\n\u001b[32m    250\u001b[39m \u001b[43m    \u001b[49m\u001b[43mlocation\u001b[49m\u001b[43m=\u001b[49m\u001b[43mlocation\u001b[49m\u001b[43m,\u001b[49m\n\u001b[32m    251\u001b[39m \u001b[43m    \u001b[49m\u001b[43mhttp_options\u001b[49m\u001b[43m=\u001b[49m\u001b[43mhttp_options\u001b[49m\u001b[43m,\u001b[49m\n\u001b[32m    252\u001b[39m \u001b[43m\u001b[49m\u001b[43m)\u001b[49m\n",
      "\u001b[36mFile \u001b[39m\u001b[32m~/Documents/icog/FunctionCall/fun/lib/python3.12/site-packages/google/genai/_api_client.py:391\u001b[39m, in \u001b[36mBaseApiClient.__init__\u001b[39m\u001b[34m(self, vertexai, api_key, credentials, project, location, http_options)\u001b[39m\n\u001b[32m    389\u001b[39m \u001b[38;5;28;01melse\u001b[39;00m:  \u001b[38;5;66;03m# Implicit initialization or missing arguments.\u001b[39;00m\n\u001b[32m    390\u001b[39m   \u001b[38;5;28;01mif\u001b[39;00m \u001b[38;5;129;01mnot\u001b[39;00m \u001b[38;5;28mself\u001b[39m.api_key:\n\u001b[32m--> \u001b[39m\u001b[32m391\u001b[39m     \u001b[38;5;28;01mraise\u001b[39;00m \u001b[38;5;167;01mValueError\u001b[39;00m(\n\u001b[32m    392\u001b[39m         \u001b[33m'\u001b[39m\u001b[33mMissing key inputs argument! To use the Google AI API,\u001b[39m\u001b[33m'\u001b[39m\n\u001b[32m    393\u001b[39m         \u001b[33m'\u001b[39m\u001b[33mprovide (`api_key`) arguments. To use the Google Cloud API,\u001b[39m\u001b[33m'\u001b[39m\n\u001b[32m    394\u001b[39m         \u001b[33m'\u001b[39m\u001b[33m provide (`vertexai`, `project` & `location`) arguments.\u001b[39m\u001b[33m'\u001b[39m\n\u001b[32m    395\u001b[39m     )\n\u001b[32m    396\u001b[39m   \u001b[38;5;28mself\u001b[39m._http_options.base_url = \u001b[33m'\u001b[39m\u001b[33mhttps://generativelanguage.googleapis.com/\u001b[39m\u001b[33m'\u001b[39m\n\u001b[32m    397\u001b[39m   \u001b[38;5;28mself\u001b[39m._http_options.api_version = \u001b[33m'\u001b[39m\u001b[33mv1beta\u001b[39m\u001b[33m'\u001b[39m\n",
      "\u001b[31mValueError\u001b[39m: Missing key inputs argument! To use the Google AI API,provide (`api_key`) arguments. To use the Google Cloud API, provide (`vertexai`, `project` & `location`) arguments."
     ]
    }
   ],
   "source": [
    "import os\n",
    "import requests\n",
    "import subprocess\n",
    "import pyttsx3\n",
    "from dotenv import load_dotenv\n",
    "import spotipy\n",
    "from spotipy.oauth2 import SpotifyOAuth\n",
    "from textblob import TextBlob\n",
    "from google.genai.types import GenerateContentConfig\n",
    "from google import genai\n",
    "\n",
    "# Load environment variables\n",
    "load_dotenv()\n",
    "\n",
    "# API Keys & Config\n",
    "GOOGLE_API_KEY = os.getenv(\"GOOGLE_API_KEY\")\n",
    "SPOTIFY_CLIENT_ID = os.getenv(\"SPOTIFY_CLIENT_ID\")\n",
    "SPOTIFY_CLIENT_SECRET = os.getenv(\"SPOTIFY_CLIENT_SECRET\")\n",
    "SPOTIFY_REDIRECT_URI = \"http://localhost:8080\"\n",
    "\n",
    "# --- Initialize Spotify Client ---\n",
    "def initialize_spotify():\n",
    "    \"\"\"Authenticates and returns a Spotify client instance.\"\"\"\n",
    "    try:\n",
    "        return spotipy.Spotify(auth_manager=SpotifyOAuth(\n",
    "            client_id=SPOTIFY_CLIENT_ID,\n",
    "            client_secret=SPOTIFY_CLIENT_SECRET,\n",
    "            redirect_uri=SPOTIFY_REDIRECT_URI,\n",
    "            scope=\"playlist-read-private\"\n",
    "        ))\n",
    "    except Exception as e:\n",
    "        print(f\"Spotify authentication failed: {e}\")\n",
    "        return None\n",
    "\n",
    "sp = initialize_spotify()\n",
    "\n",
    "# --- Brightness Control ---\n",
    "def set_brightness(level: int) -> None:\n",
    "    \"\"\"\n",
    "    Sets the system brightness level.\n",
    "\n",
    "    Args:\n",
    "        level (int): Brightness percentage (0-100).\n",
    "    \"\"\"\n",
    "    try:\n",
    "        if not 0 <= level <= 100:\n",
    "            raise ValueError(\"Brightness must be between 0 and 100.\")\n",
    "\n",
    "        backlight_path = \"/sys/class/backlight/intel_backlight/\"\n",
    "        if not os.path.exists(backlight_path):\n",
    "            backlight_path = \"/sys/class/backlight/amdgpu_bl0/\"\n",
    "\n",
    "        if not os.path.exists(backlight_path):\n",
    "            print(\"Could not find backlight control path.\")\n",
    "            return\n",
    "\n",
    "        with open(f\"{backlight_path}max_brightness\", \"r\") as f:\n",
    "            max_brightness = int(f.read().strip())\n",
    "\n",
    "        target_brightness = int((level / 100) * max_brightness)\n",
    "\n",
    "        cmd = f\"echo {target_brightness} | sudo tee {backlight_path}brightness\"\n",
    "        subprocess.run(cmd, shell=True, capture_output=True, text=True)\n",
    "\n",
    "        print(f\"Brightness set to {level}%\")\n",
    "    except Exception as e:\n",
    "        print(f\"Error setting brightness: {str(e)}\")\n",
    "\n",
    "# --- Volume Control ---\n",
    "def set_volume(level: int) -> None:\n",
    "    \"\"\"\n",
    "    Sets the system volume.\n",
    "\n",
    "    Args:\n",
    "        level (int): Volume percentage (0-100).\n",
    "    \"\"\"\n",
    "    os.system(f\"pactl set-sink-volume @DEFAULT_SINK@ {level}%\")\n",
    "    print(f\"Volume set to {level}%\")\n",
    "\n",
    "# --- Mood Detection ---\n",
    "def detect_mood(text: str) -> str:\n",
    "    \"\"\"\n",
    "    Analyzes text and determines mood.\n",
    "\n",
    "    Args:\n",
    "        text (str): Input text.\n",
    "\n",
    "    Returns:\n",
    "        str: Detected mood ('happy', 'sad', 'stressed', 'neutral', 'angry').\n",
    "    \"\"\"\n",
    "    analysis = TextBlob(text)\n",
    "    polarity = analysis.sentiment.polarity\n",
    "    text_lower = text.lower()\n",
    "\n",
    "    if \"angry\" in text_lower or \"mad\" in text_lower:\n",
    "        return \"angry\"\n",
    "    elif \"happy\" in text_lower or \"joy\" in text_lower:\n",
    "        return \"happy\"\n",
    "    elif \"sad\" in text_lower or \"depressed\" in text_lower:\n",
    "        return \"sad\"\n",
    "    elif \"stressed\" in text_lower or \"anxious\" in text_lower:\n",
    "        return \"stressed\"\n",
    "\n",
    "    return \"happy\" if polarity > 0.3 else \"sad\" if polarity < -0.3 else \"neutral\"\n",
    "\n",
    "# --- Spotify Music Recommendation ---\n",
    "MOOD_PLAYLISTS = {\n",
    "    \"happy\": \"spotify:playlist:37i9dQZF1DXdPec7aLTmlC\",\n",
    "    \"sad\": \"spotify:playlist:37i9dQZF1DX64Y3ftTBfaN\",\n",
    "    \"stressed\": \"spotify:playlist:37i9dQZF1DWU0ScTcjJBdj\",\n",
    "    \"neutral\": \"spotify:playlist:37i9dQZF1DX0XUsuxWHRQd\",\n",
    "    \"angry\": \"spotify:playlist:37i9dQZF1DX2DCrI7t4mmy\"\n",
    "}\n",
    "\n",
    "def recommend_music(mood: str) -> str:\n",
    "    \"\"\"\n",
    "    Recommends a Spotify playlist based on mood.\n",
    "\n",
    "    Args:\n",
    "        mood (str): User's detected mood.\n",
    "\n",
    "    Returns:\n",
    "        str: Playlist link.\n",
    "    \"\"\"\n",
    "    if not sp:\n",
    "        return \"Spotify integration not available.\"\n",
    "\n",
    "    playlist_uri = MOOD_PLAYLISTS.get(mood, MOOD_PLAYLISTS[\"neutral\"])\n",
    "    try:\n",
    "        playlist = sp.playlist(playlist_uri, market=\"US\")\n",
    "        return f\"Based on your mood, listen to: {playlist['name']} - {playlist['external_urls']['spotify']}\"\n",
    "    except Exception as e:\n",
    "        return f\"Error fetching playlist: {str(e)}\"\n",
    "\n",
    "# --- Text-to-Speech (Joke Telling) ---\n",
    "def tell_joke(filename: str) -> None:\n",
    "    \"\"\"\n",
    "    Reads a joke aloud using text-to-speech.\n",
    "\n",
    "    Args:\n",
    "        filename (str): File containing the joke.\n",
    "    \"\"\"\n",
    "    try:\n",
    "        with open(filename, \"r\") as file:\n",
    "            joke = file.read()\n",
    "\n",
    "        tts = pyttsx3.init()\n",
    "        tts.say(\"Here is a joke for you!\")\n",
    "        tts.say(joke)\n",
    "        tts.runAndWait()\n",
    "    except Exception as e:\n",
    "        print(f\"Error reading joke: {str(e)}\")\n",
    "\n",
    "# --- Integrating Gemini AI ---\n",
    "# Create Gemini Client\n",
    "client = genai.Client(api_key=GOOGLE_API_KEY)\n",
    "\n",
    "# Define the Model\n",
    "model_id = \"gemini-2.0-flash\"\n",
    "\n",
    "# Generation Config\n",
    "config = GenerateContentConfig(\n",
    "    system_instruction=\"You are a helpful assistant that controls device settings and recommends music based on mood.\",\n",
    "    tools=[set_brightness, set_volume, detect_mood, recommend_music, tell_joke],  # Define callable functions\n",
    ")\n",
    "\n",
    "# --- Example Usage ---\n",
    "if __name__ == \"__main__\":\n",
    "    r = client.models.generate_content(\n",
    "        model=model_id,\n",
    "        config=config,\n",
    "        contents='Set the volume to 50%, then recommend music for the mood: \"I feel happy.\"'\n",
    "    )\n",
    "\n",
    "    print(r.text)\n"
   ]
  }
 ],
 "metadata": {
  "kernelspec": {
   "display_name": "fun",
   "language": "python",
   "name": "python3"
  },
  "language_info": {
   "codemirror_mode": {
    "name": "ipython",
    "version": 3
   },
   "file_extension": ".py",
   "mimetype": "text/x-python",
   "name": "python",
   "nbconvert_exporter": "python",
   "pygments_lexer": "ipython3",
   "version": "3.12.3"
  }
 },
 "nbformat": 4,
 "nbformat_minor": 2
}
