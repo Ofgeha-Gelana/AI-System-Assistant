{
 "cells": [
  {
   "cell_type": "code",
   "execution_count": null,
   "metadata": {},
   "outputs": [],
   "source": [
    "import os\n",
    "import requests\n",
    "import pyttsx3\n"
   ]
  },
  {
   "cell_type": "code",
   "execution_count": null,
   "metadata": {},
   "outputs": [],
   "source": [
    "JOKE_API_URL = \"https://v2.jokeapi.dev/joke/\"\n",
    "\n",
    "def get_joke(category: str) -> str:\n",
    "    \"\"\"\n",
    "    Fetches a joke from the API based on the selected category.\n",
    "\n",
    "    Args:\n",
    "        category (str): The category of the joke (e.g., 'Programming', 'Pun').\n",
    "\n",
    "    Returns:\n",
    "        str: The joke in the format \"Setup ... Delivery\".\n",
    "    \"\"\"\n",
    "    url = f\"{JOKE_API_URL}{category}?type=twopart\"\n",
    "    response = requests.get(url)\n",
    "    \n",
    "    if response.status_code == 200:\n",
    "        data = response.json()\n",
    "        return f\"{data['setup']} ... {data['delivery']}\"\n",
    "    else:\n",
    "        return \"Oops! Couldn't fetch a joke.\""
   ]
  },
  {
   "cell_type": "code",
   "execution_count": null,
   "metadata": {},
   "outputs": [],
   "source": [
    "get_joke(\"programming\")"
   ]
  },
  {
   "cell_type": "code",
   "execution_count": null,
   "metadata": {},
   "outputs": [],
   "source": [
    "\n",
    "\n",
    "def save_joke(joke: str, filename: str) -> None:\n",
    "    \"\"\"\n",
    "    Saves the joke to a text file.\n",
    "\n",
    "    Args:\n",
    "        joke (str): The joke text.\n",
    "        filename (str): The name of the file to save the joke in. Default is 'joke.txt'.\n",
    "    \"\"\"\n",
    "    with open(filename, \"w\") as file:\n",
    "        file.write(joke)\n",
    "    print(f\"Joke saved to {filename}\")\n",
    "\n"
   ]
  },
  {
   "cell_type": "code",
   "execution_count": null,
   "metadata": {},
   "outputs": [],
   "source": [
    "save_joke(\"This is a joke\", \"joke.txt\")"
   ]
  },
  {
   "cell_type": "code",
   "execution_count": null,
   "metadata": {},
   "outputs": [],
   "source": [
    "\n",
    "\n",
    "def set_volume(level: int) -> None:\n",
    "    \"\"\"\n",
    "    Sets the system volume using pactl.\n",
    "    \n",
    "    Args:\n",
    "        level (int): Volume level in percentage (0-100).\n",
    "    \"\"\"\n",
    "    os.system(f\"pactl set-sink-volume @DEFAULT_SINK@ {level}%\")\n",
    "    print(f\"Volume set to {level}%\")\n",
    "\n"
   ]
  },
  {
   "cell_type": "code",
   "execution_count": null,
   "metadata": {},
   "outputs": [],
   "source": [
    "set_volume(45)"
   ]
  },
  {
   "cell_type": "code",
   "execution_count": null,
   "metadata": {},
   "outputs": [],
   "source": [
    "def tell_joke(filename: str) -> None:\n",
    "    \"\"\"\n",
    "    Reads the joke aloud using text-to-speech (TTS).\n",
    "\n",
    "    Args:\n",
    "        filename (str): The file from which the joke will be read. Default is 'joke.txt'.\n",
    "    \"\"\"\n",
    "    with open(filename, \"r\") as file:\n",
    "        joke = file.read()\n",
    "\n",
    "    tts = pyttsx3.init()\n",
    "    tts.say(\"Here is a joke for you!   \")\n",
    "    tts.say(joke)\n",
    "    tts.runAndWait()"
   ]
  },
  {
   "cell_type": "code",
   "execution_count": null,
   "metadata": {},
   "outputs": [],
   "source": [
    "tell_joke(\"joke.txt\")"
   ]
  },
  {
   "cell_type": "code",
   "execution_count": null,
   "metadata": {},
   "outputs": [],
   "source": [
    "# Install the google-genai package\n",
    "%pip install google-genai\n",
    "\n",
    "from google.genai.types import GenerateContentConfig"
   ]
  },
  {
   "cell_type": "code",
   "execution_count": null,
   "metadata": {},
   "outputs": [],
   "source": [
    "from google import genai\n",
    " \n",
    "# create client\n",
    "api_key = os.getenv(\"GEMINI_API_KEY\")\n",
    "client = genai.Client(api_key=api_key)\n",
    " \n",
    "# Define the model you are going to use\n",
    "model_id =  \"gemini-2.0-flash\"\n"
   ]
  },
  {
   "cell_type": "code",
   "execution_count": null,
   "metadata": {},
   "outputs": [],
   "source": [
    "\n",
    "\n",
    " \n",
    "# Generation Config\n",
    "config = GenerateContentConfig(\n",
    "    system_instruction=\"You are a helpful assistant that use tools to provide jokes to the user\", # to give the LLM context.\n",
    "    tools=[get_joke, save_joke, set_volume, tell_joke, ], # define the functions that the LLM can use\n",
    ")\n",
    "\n"
   ]
  },
  {
   "cell_type": "code",
   "execution_count": null,
   "metadata": {},
   "outputs": [],
   "source": [
    "\n",
    "\n",
    "r = client.models.generate_content(\n",
    "    model=model_id,\n",
    "    config=config,\n",
    "    contents='tell me a joke about programming, and save it in a file named \"joke.txt\", then read it aloud'\n",
    ")\n",
    "\n",
    "# set the volume \"50\" percent\n",
    "# tell me a joke about programming\n",
    "# tell me a joke about programming, and save it in a file named \"joke.txt\", then read it aloud\n",
    "\n",
    "\n",
    "print(r.text)"
   ]
  },
  {
   "cell_type": "code",
   "execution_count": null,
   "metadata": {},
   "outputs": [],
   "source": []
  }
 ],
 "metadata": {
  "kernelspec": {
   "display_name": "fun",
   "language": "python",
   "name": "python3"
  },
  "language_info": {
   "codemirror_mode": {
    "name": "ipython",
    "version": 3
   },
   "file_extension": ".py",
   "mimetype": "text/x-python",
   "name": "python",
   "nbconvert_exporter": "python",
   "pygments_lexer": "ipython3",
   "version": "3.12.3"
  }
 },
 "nbformat": 4,
 "nbformat_minor": 2
}
